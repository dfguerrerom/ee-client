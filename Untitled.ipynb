{
 "cells": [
  {
   "cell_type": "code",
   "execution_count": 3,
   "id": "3a5e610e-9e4b-42eb-93da-0aa5189fc942",
   "metadata": {},
   "outputs": [
    {
     "name": "stdout",
     "output_type": "stream",
     "text": [
      "Request Headers:\n",
      "User-Agent: python-requests/2.32.3\n",
      "Accept-Encoding: gzip, deflate, br\n",
      "Accept: */*\n",
      "Connection: keep-alive\n"
     ]
    }
   ],
   "source": [
    "import requests\n",
    "\n",
    "url = \"https://example.com/api\"  # Replace with your target URL\n",
    "headers = {\n",
    "    \"Authorization\": \"Bearer YOUR_TOKEN\",  # Replace with your headers\n",
    "    \"Content-Type\": \"application/json\"\n",
    "}\n",
    "\n",
    "response = requests.get(url)\n",
    "\n",
    "# Print the headers being sent\n",
    "print(\"Request Headers:\")\n",
    "for key, value in response.request.headers.items():\n",
    "    print(f\"{key}: {value}\")\n",
    "\n"
   ]
  },
  {
   "cell_type": "code",
   "execution_count": null,
   "id": "f9e6103e-ffbb-48ac-8a99-5b5766d1ccc0",
   "metadata": {},
   "outputs": [],
   "source": []
  }
 ],
 "metadata": {
  "kernelspec": {
   "display_name": "Python 3 (ipykernel)",
   "language": "python",
   "name": "python3"
  },
  "language_info": {
   "codemirror_mode": {
    "name": "ipython",
    "version": 3
   },
   "file_extension": ".py",
   "mimetype": "text/x-python",
   "name": "python",
   "nbconvert_exporter": "python",
   "pygments_lexer": "ipython3",
   "version": "3.10.0"
  }
 },
 "nbformat": 4,
 "nbformat_minor": 5
}
