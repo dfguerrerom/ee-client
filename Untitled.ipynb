{
 "cells": [
  {
   "cell_type": "code",
   "execution_count": 1,
   "id": "31066ff7",
   "metadata": {},
   "outputs": [
    {
     "name": "stderr",
     "output_type": "stream",
     "text": [
      "UsageError: Line magic function `%autreload` not found.\n"
     ]
    }
   ],
   "source": [
    "%load_ext autoreload\n",
    "%autreload 2"
   ]
  },
  {
   "cell_type": "code",
   "execution_count": 2,
   "id": "3a5e610e-9e4b-42eb-93da-0aa5189fc942",
   "metadata": {},
   "outputs": [],
   "source": [
    "from eeclient.typing import *"
   ]
  },
  {
   "cell_type": "code",
   "execution_count": 9,
   "id": "d0f00a10",
   "metadata": {},
   "outputs": [],
   "source": [
    "sepal_headers = {\n",
    "    \"cookie\": [\n",
    "        \"SEPAL-SESSIONID=s:wXvhZYwMwECCDOHIMFQ7gQaNn_KAkivu.Dov/V+BJs/0cr7ycom1ehA40LYT+2o0vOUA5gp0BRk8;\"\n",
    "    ],\n",
    "    \"sepal-user\": [\n",
    "        '{\"id\":10001,\"username\":\"admin\",\"googleTokens\":{\"accessToken\":\"ya29.a0ARW5m76UHrT4hVy5t3gZkmXkvOCqfUr78-yjBaUm43j0f9aa05uxki83KmbMrlnoGWbmytM9pxrN2EPTbY3Rn33jWWQsGXlo0c7D6CZxNcYPsCheCnUoW5aI1LxBw2K3G4b0yotQQvZxOOOo418KmEPeZhmTY_AQ_6mqS_6eaCgYKARISARESFQHGX2MiC07SUk-NC5dyrdxPZdI2uw0175\",\"refreshToken\":\"1//05tbF8WVKgyxeCgYIARAAGAUSNwF-L9IrFcEQ5XwEYBnHoxjxDVc3LpLRlO-ujFXPcMNpNzJWw7rc21LOze6kvahMBaW4rM2j10w\",\"accessTokenExpiryDate\":1,\"projectId\":\"ee-dfgm2006\",\"legacyProject\":false},\"status\":\"ACTIVE\",\"roles\":[\"application_admin\"],\"systemUser\":false,\"admin\":true}'\n",
    "    ],\n",
    "}"
   ]
  },
  {
   "cell_type": "code",
   "execution_count": 10,
   "id": "f9e6103e-ffbb-48ac-8a99-5b5766d1ccc0",
   "metadata": {},
   "outputs": [],
   "source": [
    "sepal_headers = SepalHeaders.model_validate(sepal_headers)"
   ]
  },
  {
   "cell_type": "code",
   "execution_count": 11,
   "id": "450dc10d",
   "metadata": {},
   "outputs": [
    {
     "data": {
      "text/plain": [
       "'s:wXvhZYwMwECCDOHIMFQ7gQaNn_KAkivu.Dov/V+BJs/0cr7ycom1ehA40LYT+2o0vOUA5gp0BRk8'"
      ]
     },
     "execution_count": 11,
     "metadata": {},
     "output_type": "execute_result"
    }
   ],
   "source": [
    "sepal_headers.cookies[\"SEPAL-SESSIONID\"]\n"
   ]
  },
  {
   "cell_type": "code",
   "execution_count": 12,
   "id": "09ca4649",
   "metadata": {},
   "outputs": [
    {
     "data": {
      "text/plain": [
       "GEEHeaders(x_goog_user_project='ee-dfgm2006', authorization='asdf', username='asdf')"
      ]
     },
     "execution_count": 12,
     "metadata": {},
     "output_type": "execute_result"
    }
   ],
   "source": [
    "GEEHeaders(x_goog_user_project=\"ee-dfgm2006\", authorization=\"asdf\", username=\"asdf\")"
   ]
  },
  {
   "cell_type": "code",
   "execution_count": null,
   "id": "94c7e10d",
   "metadata": {},
   "outputs": [
    {
     "data": {
      "text/plain": [
       "{'access_token': 'ya29.a0ARW5m76UHrT4hVy5t3gZkmXkvOCqfUr78-yjBaUm43j0f9aa05uxki83KmbMrlnoGWbmytM9pxrN2EPTbY3Rn33jWWQsGXlo0c7D6CZxNcYPsCheCnUoW5aI1LxBw2K3G4b0yotQQvZxOOOo418KmEPeZhmTY_AQ_6mqS_6eaCgYKARISARESFQHGX2MiC07SUk-NC5dyrdxPZdI2uw0175',\n",
       " 'refresh_token': '1//05tbF8WVKgyxeCgYIARAAGAUSNwF-L9IrFcEQ5XwEYBnHoxjxDVc3LpLRlO-ujFXPcMNpNzJWw7rc21LOze6kvahMBaW4rM2j10w',\n",
       " 'access_token_expiry_date': 1,\n",
       " 'refresh_if_expires_in_minutes': None,\n",
       " 'project_id': 'ee-dfgm2006',\n",
       " 'legacy_project': False}"
      ]
     },
     "execution_count": 15,
     "metadata": {},
     "output_type": "execute_result"
    }
   ],
   "source": [
    "sepal_headers.sepal_user.google_tokens.model_dump(exclude={\"accessToken\", \"refreshToken\"})"
   ]
  }
 ],
 "metadata": {
  "kernelspec": {
   "display_name": "eeclient",
   "language": "python",
   "name": "python3"
  },
  "language_info": {
   "codemirror_mode": {
    "name": "ipython",
    "version": 3
   },
   "file_extension": ".py",
   "mimetype": "text/x-python",
   "name": "python",
   "nbconvert_exporter": "python",
   "pygments_lexer": "ipython3",
   "version": "3.10.0"
  }
 },
 "nbformat": 4,
 "nbformat_minor": 5
}
